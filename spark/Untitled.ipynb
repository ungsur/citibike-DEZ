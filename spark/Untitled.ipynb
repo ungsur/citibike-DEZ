{
 "cells": [
  {
   "cell_type": "code",
   "execution_count": 3,
   "id": "6be806b5",
   "metadata": {},
   "outputs": [],
   "source": [
    "import pyspark\n",
    "from pyspark.sql import SparkSession"
   ]
  },
  {
   "cell_type": "code",
   "execution_count": 6,
   "id": "991de35e",
   "metadata": {},
   "outputs": [
    {
     "name": "stdout",
     "output_type": "stream",
     "text": [
      "2022-04-30 16:03:32 WARN  NativeCodeLoader:62 - Unable to load native-hadoop library for your platform... using builtin-java classes where applicable\n"
     ]
    },
    {
     "name": "stderr",
     "output_type": "stream",
     "text": [
      "Setting default log level to \"WARN\".\n",
      "To adjust logging level use sc.setLogLevel(newLevel). For SparkR, use setLogLevel(newLevel).\n"
     ]
    }
   ],
   "source": [
    "spark = SparkSession.builder\\\n",
    "        .master(\"local[*]\")\\\n",
    "        .appName('test')\\\n",
    "        .getOrCreate()"
   ]
  },
  {
   "cell_type": "code",
   "execution_count": 10,
   "id": "0b79e203",
   "metadata": {},
   "outputs": [],
   "source": [
    "df = spark.read\\\n",
    "     .option('header', \"true\")\\\n",
    "     .csv('smallfile.csv')"
   ]
  },
  {
   "cell_type": "code",
   "execution_count": 11,
   "id": "b24dbed7",
   "metadata": {},
   "outputs": [
    {
     "name": "stdout",
     "output_type": "stream",
     "text": [
      "+------------+--------------------+--------------------+----------------+--------------------+----------------------+-----------------------+--------------+--------------------+--------------------+---------------------+------+----------+----------+------+\n",
      "|tripduration|           starttime|            stoptime|start station id|  start station name|start station latitude|start station longitude|end station id|    end station name|end station latitude|end station longitude|bikeid|  usertype|birth year|gender|\n",
      "+------------+--------------------+--------------------+----------------+--------------------+----------------------+-----------------------+--------------+--------------------+--------------------+---------------------+------+----------+----------+------+\n",
      "|         320|2019-01-01 00:01:...|2019-01-01 00:07:...|            3160|Central Park West...|           40.77896784|           -73.97374737|          3283|W 89 St & Columbu...|          40.7882213|         -73.97041561| 15839|Subscriber|      1971|     1|\n",
      "|         316|2019-01-01 00:04:...|2019-01-01 00:10:...|             519|Pershing Square N...|             40.751873|             -73.977706|           518|     E 39 St & 2 Ave|         40.74780373|          -73.9734419| 32723|Subscriber|      1964|     1|\n",
      "|         591|2019-01-01 00:06:...|2019-01-01 00:15:...|            3171|Amsterdam Ave & W...|           40.78524672|           -73.97667321|          3154|     E 77 St & 3 Ave|         40.77314236|         -73.95856158| 27451|Subscriber|      1987|     1|\n",
      "|        2719|2019-01-01 00:07:...|2019-01-01 00:52:...|             504|     1 Ave & E 16 St|           40.73221853|           -73.98165557|          3709|     W 15 St & 6 Ave|  40.738046142482766|   -73.99642959237099| 21579|Subscriber|      1990|     1|\n",
      "|         303|2019-01-01 00:07:...|2019-01-01 00:12:...|             229|      Great Jones St|           40.72743423|           -73.99379025|           503|  E 20 St & Park Ave|         40.73827428|         -73.98751968| 35379|Subscriber|      1979|     1|\n",
      "|         535|2019-01-01 00:08:...|2019-01-01 00:17:...|            3630|Frederick Douglas...|            40.8038654|            -73.9559308|          3529|Lenox Ave & W 130 St|          40.8107922|          -73.9430681| 30315|Subscriber|      1989|     2|\n",
      "|         280|2019-01-01 00:09:...|2019-01-01 00:14:...|            3675|     3 Ave & E 95 St|    40.784596798848916|     -73.94968539476395|          3288|     E 88 St & 1 Ave|           40.778301|          -73.9488134| 35391|Subscriber|      1987|     1|\n",
      "|        1547|2019-01-01 00:11:...|2019-01-01 00:37:...|             285|  Broadway & E 14 St|           40.73454567|           -73.99074142|          3358| Garfield Pl & 8 Ave|          40.6711978|         -73.97484126| 35551|Subscriber|      1981|     1|\n",
      "|         300|2019-01-01 00:12:...|2019-01-01 00:17:...|            3394|Columbia St & W 9 St|            40.6769993|           -74.00647134|          3398|     Smith St & 9 St|          40.6746957|         -73.99785768| 18636|Subscriber|      1990|     2|\n",
      "|         123|2019-01-01 00:12:...|2019-01-01 00:14:...|             432|   E 7 St & Avenue A|           40.72621788|           -73.98379855|          3656|   E 2 St & Avenue A|   40.72307749068673|   -73.98583620786667| 35206|Subscriber|      1987|     1|\n",
      "|         932|2019-01-01 00:14:...|2019-01-01 00:29:...|             379|     W 31 St & 7 Ave|             40.749156|               -73.9916|           336|Sullivan St & Was...|         40.73047747|         -73.99906065| 35148|Subscriber|      1986|     1|\n",
      "|         209|2019-01-01 00:15:...|2019-01-01 00:18:...|             438| St Marks Pl & 1 Ave|           40.72779126|           -73.98564945|           301|   E 2 St & Avenue B|         40.72217444|         -73.98368779| 34416|Subscriber|      1998|     2|\n",
      "|         976|2019-01-01 00:15:...|2019-01-01 00:31:...|            3452|Bayard St & Leona...|     40.71915571696044|     -73.94885390996933|           251| Mott St & Prince St|         40.72317958|         -73.99480012| 35685|Subscriber|      1994|     1|\n",
      "|          97|2019-01-01 00:15:...|2019-01-01 00:17:...|            3430|Richardson St & N...|     40.71907891179564|     -73.94223690032959|          3095|Graham Ave & Herb...|         40.71929301|         -73.94500379| 34307|Subscriber|      1988|     1|\n",
      "|         467|2019-01-01 00:16:...|2019-01-01 00:24:...|             507|     E 25 St & 2 Ave|           40.73912601|           -73.97973776|           492|     W 33 St & 7 Ave|         40.75019995|         -73.99093085| 35561|Subscriber|      1989|     1|\n",
      "|         348|2019-01-01 00:17:...|2019-01-01 00:23:...|            3095|Graham Ave & Herb...|           40.71929301|           -73.94500379|          3101|N 12 St & Bedford...|         40.72079821|         -73.95484712| 35695|Subscriber|      1988|     1|\n",
      "|         505|2019-01-01 00:18:...|2019-01-01 00:27:...|            3132|E 59 St & Madison...|           40.76350532|           -73.97109243|           359|  E 47 St & Park Ave|         40.75510267|         -73.97498696| 31801|Subscriber|      1981|     1|\n",
      "|        3494|2019-01-01 00:18:...|2019-01-01 01:17:...|            3171|Amsterdam Ave & W...|           40.78524672|           -73.97667321|          3164|Columbus Ave & W ...|          40.7770575|         -73.97898475| 35785|Subscriber|      1954|     1|\n",
      "|         829|2019-01-01 00:19:...|2019-01-01 00:32:...|            3165|Central Park West...|     40.77579376683666|      -73.9762057363987|          3295|Central Park W & ...|            40.79127|           -73.964839| 32106|Subscriber|      1969|     0|\n",
      "|         451|2019-01-01 00:21:...|2019-01-01 00:28:...|             403|      E 2 St & 2 Ave|           40.72502876|           -73.99069656|           545|     E 23 St & 1 Ave|           40.736502|         -73.97809472| 32038|Subscriber|      1985|     1|\n",
      "+------------+--------------------+--------------------+----------------+--------------------+----------------------+-----------------------+--------------+--------------------+--------------------+---------------------+------+----------+----------+------+\n",
      "only showing top 20 rows\n",
      "\n"
     ]
    }
   ],
   "source": [
    "df.show()"
   ]
  },
  {
   "cell_type": "code",
   "execution_count": 13,
   "id": "5a4afa28",
   "metadata": {},
   "outputs": [
    {
     "data": {
      "text/plain": [
       "StructType(List(StructField(tripduration,StringType,true),StructField(starttime,StringType,true),StructField(stoptime,StringType,true),StructField(start station id,StringType,true),StructField(start station name,StringType,true),StructField(start station latitude,StringType,true),StructField(start station longitude,StringType,true),StructField(end station id,StringType,true),StructField(end station name,StringType,true),StructField(end station latitude,StringType,true),StructField(end station longitude,StringType,true),StructField(bikeid,StringType,true),StructField(usertype,StringType,true),StructField(birth year,StringType,true),StructField(gender,StringType,true)))"
      ]
     },
     "execution_count": 13,
     "metadata": {},
     "output_type": "execute_result"
    }
   ],
   "source": [
    "df.schema"
   ]
  },
  {
   "cell_type": "code",
   "execution_count": null,
   "id": "a196db7c",
   "metadata": {},
   "outputs": [],
   "source": []
  }
 ],
 "metadata": {
  "kernelspec": {
   "display_name": "Python 3.7.4 64-bit ('anaconda3': virtualenv)",
   "language": "python",
   "name": "python37464bitanaconda3virtualenv517ffe140e8a4bbcba727fb3f72ff545"
  },
  "language_info": {
   "codemirror_mode": {
    "name": "ipython",
    "version": 3
   },
   "file_extension": ".py",
   "mimetype": "text/x-python",
   "name": "python",
   "nbconvert_exporter": "python",
   "pygments_lexer": "ipython3",
   "version": "3.7.11"
  }
 },
 "nbformat": 4,
 "nbformat_minor": 5
}
